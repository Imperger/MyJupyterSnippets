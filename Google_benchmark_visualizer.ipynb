{
 "cells": [
  {
   "cell_type": "code",
   "execution_count": 1,
   "id": "a2755279",
   "metadata": {},
   "outputs": [],
   "source": [
    "using Plots"
   ]
  },
  {
   "cell_type": "code",
   "execution_count": 2,
   "id": "7006d4ec",
   "metadata": {},
   "outputs": [
    {
     "data": {
      "text/plain": [
       "57-element Vector{String}:\n",
       " \"Run on (16 X 2496 MHz CPU s)\"\n",
       " \"CPU Caches:\"\n",
       " \"  L1 Data 48 KiB (x8)\"\n",
       " \"  L1 Instruction 32 KiB (x8)\"\n",
       " \"  L2 Unified 512 KiB (x8)\"\n",
       " \"  L3 Unified 16384 KiB (x1)\"\n",
       " \"--------------------------------------------------------------------\"\n",
       " \"Benchmark                          Time             CPU   Iterations\"\n",
       " \"--------------------------------------------------------------------\"\n",
       " \"AtomicCounterBenchmark/1      600394 ns        59291 ns         8960\"\n",
       " \"AtomicCounterBenchmark/2     1159046 ns        87193 ns         8960\"\n",
       " \"AtomicCounterBenchmark/3     1433006 ns       129395 ns         6400\"\n",
       " \"AtomicCounterBenchmark/4     1606901 ns        89979 ns         7467\"\n",
       " ⋮\n",
       " \"MutexCounterBenchmark/13     5783043 ns       223214 ns         1120\"\n",
       " \"MutexCounterBenchmark/14     6437259 ns       218750 ns         1000\"\n",
       " \"MutexCounterBenchmark/15     7037927 ns       109375 ns         1000\"\n",
       " \"MutexCounterBenchmark/16     7447630 ns       187500 ns         1000\"\n",
       " \"MutexCounterBenchmark/17     7526248 ns       156250 ns         1000\"\n",
       " \"MutexCounterBenchmark/18     7526859 ns       250000 ns         1000\"\n",
       " \"MutexCounterBenchmark/19     7486029 ns       343750 ns         1000\"\n",
       " \"MutexCounterBenchmark/20     7437628 ns       125000 ns         1000\"\n",
       " \"MutexCounterBenchmark/21     7442734 ns       312500 ns         1000\"\n",
       " \"MutexCounterBenchmark/22     7440802 ns       343750 ns         1000\"\n",
       " \"MutexCounterBenchmark/23     7454884 ns       203125 ns         1000\"\n",
       " \"MutexCounterBenchmark/24     7487734 ns       218750 ns         1000\""
      ]
     },
     "execution_count": 2,
     "metadata": {},
     "output_type": "execute_result"
    }
   ],
   "source": [
    "report_filename = \"atomic_mutex_benchmark.txt\";\n",
    "\n",
    "report = readlines(report_filename)"
   ]
  },
  {
   "cell_type": "code",
   "execution_count": 3,
   "id": "bdd4cebf",
   "metadata": {},
   "outputs": [],
   "source": [
    "struct HardwareInfo\n",
    "    concurency::Number\n",
    "    frequency::Number\n",
    "end"
   ]
  },
  {
   "cell_type": "code",
   "execution_count": 4,
   "id": "a5cdbf41",
   "metadata": {},
   "outputs": [
    {
     "data": {
      "text/plain": [
       "ParseHardwareInfo (generic function with 1 method)"
      ]
     },
     "execution_count": 4,
     "metadata": {},
     "output_type": "execute_result"
    }
   ],
   "source": [
    "function ParseHardwareInfo()::HardwareInfo\n",
    "    pattern::Regex = r\"Run\\son\\s\\((\\d+)\\sX\\s(\\d+)\\sMHz\\sCPU s\\)\"\n",
    "    m = match(pattern, report[1])\n",
    "    \n",
    "    if m == nothing\n",
    "        return HardwareInfo(0, 0)\n",
    "    end\n",
    "    \n",
    "    return HardwareInfo(parse(Int64, m.captures[1]), parse(Int64, m.captures[2]))\n",
    "end"
   ]
  },
  {
   "cell_type": "code",
   "execution_count": 5,
   "id": "074e03e3",
   "metadata": {},
   "outputs": [],
   "source": [
    "function FindMeasurementsIdx(lines::Vector{String})::Int32\n",
    "    skips::UInt16 = 1\n",
    "    for n = 1:length(lines)\n",
    "           if startswith(lines[n], '-'^10)\n",
    "            if skips == 0\n",
    "            return n + 1\n",
    "            else\n",
    "            skips-=1;\n",
    "            end\n",
    "        end\n",
    "    end\n",
    "    return - 1\n",
    "end;"
   ]
  },
  {
   "cell_type": "code",
   "execution_count": 6,
   "id": "14ae437d",
   "metadata": {},
   "outputs": [],
   "source": [
    "struct Measure\n",
    "    name::String\n",
    "    range::Number\n",
    "    time::Number\n",
    "    cpu::Number\n",
    "    iterations::Number\n",
    "end"
   ]
  },
  {
   "cell_type": "code",
   "execution_count": 7,
   "id": "eb3c246e",
   "metadata": {},
   "outputs": [
    {
     "data": {
      "text/plain": [
       "ParseReportLine (generic function with 1 method)"
      ]
     },
     "execution_count": 7,
     "metadata": {},
     "output_type": "execute_result"
    }
   ],
   "source": [
    "function ParseReportLine(line::String)::Measure\n",
    "    pattern::Regex = r\"^(\\w+)\\/?(\\d*)\\s*(\\d+)\\s\\w{2}\\s+(\\d+\\.?\\d+)\\s\\w{2}\\s+(\\d+)$\"\n",
    "    m = match(pattern, line)\n",
    "    \n",
    "    if m == nothing\n",
    "        throw(ErrorException(\"Invalid measure string\"))\n",
    "    end\n",
    "    \n",
    "    if length(m.captures[2]) == 0\n",
    "        m.captures[2] = \"0\"\n",
    "    end\n",
    "    \n",
    "    return Measure(\n",
    "        m.captures[1], \n",
    "        parse(Int64, m.captures[2]),\n",
    "        round(Int64, parse(Float64, m.captures[3])), \n",
    "        round(Int64, parse(Float64, m.captures[4])),\n",
    "        parse(Int64, m.captures[5]))\n",
    "end"
   ]
  },
  {
   "cell_type": "code",
   "execution_count": 8,
   "id": "8d45c729",
   "metadata": {},
   "outputs": [],
   "source": [
    "struct PlotData\n",
    "    title::String\n",
    "    x::Vector{Int64}\n",
    "    y::Vector{Int64}\n",
    "end"
   ]
  },
  {
   "cell_type": "code",
   "execution_count": 9,
   "id": "73267119",
   "metadata": {},
   "outputs": [
    {
     "data": {
      "text/plain": [
       "BuildPlotSeries (generic function with 1 method)"
      ]
     },
     "execution_count": 9,
     "metadata": {},
     "output_type": "execute_result"
    }
   ],
   "source": [
    "function BuildPlotSeries()::Vector{PlotData}\n",
    "    payloadIdx::Int64 = FindMeasurementsIdx(report)\n",
    "    \n",
    "    if payloadIdx == -1\n",
    "        throw(ErrorException(\"Failed to find measurements\"))\n",
    "    end\n",
    "    \n",
    "    series::Dict{String, PlotData} = Dict()\n",
    "    bar_pos::Int64 = 0\n",
    "    for n = payloadIdx:length(report)\n",
    "        measure = ParseReportLine(report[n])\n",
    "        s = get(series, measure.name, nothing)\n",
    "        if s == nothing\n",
    "            if measure.range == 0\n",
    "                series[measure.name] = PlotData(measure.name, Vector([bar_pos]), Vector([measure.time]))\n",
    "                bar_pos += 1\n",
    "            else\n",
    "                series[measure.name] = PlotData(measure.name, Vector([measure.range]), Vector([measure.time]))\n",
    "            end\n",
    "        else\n",
    "            push!(s.x, measure.range)\n",
    "            push!(s.y, measure.time)\n",
    "        end\n",
    "    end\n",
    "    return collect(values(series))\n",
    "end"
   ]
  },
  {
   "cell_type": "code",
   "execution_count": 10,
   "id": "8c2edfc1",
   "metadata": {},
   "outputs": [
    {
     "data": {
      "image/png": "[encoded data removed]"
     },
     "execution_count": 10,
     "metadata": {},
     "output_type": "execute_result"
    }
   ],
   "source": [
    "function Plot(concurency::Bool)\n",
    "    series = BuildPlotSeries()\n",
    "    p = plot(\n",
    "        map(s -> s.x, series), \n",
    "        map(s -> s.y, series),\n",
    "        label=reshape(map(s -> s.title, series), (1, length(series))),\n",
    "        seriestype = reshape(map(s -> length(s.x) == 1 ? :bar : :path, series), (1, length(series))),\n",
    "        legend=:topleft,\n",
    "        fmt = :png)\n",
    "    \n",
    "    if concurency\n",
    "        return vline!([ParseHardwareInfo().concurency], label=\"Hardware concurrency\")\n",
    "    else\n",
    "        return p\n",
    "    end\n",
    "end\n",
    "\n",
    "Plot(true)"
   ]
  }
 ],
 "metadata": {
  "kernelspec": {
   "display_name": "Julia 1.6.1",
   "language": "julia",
   "name": "julia-1.6"
  },
  "language_info": {
   "file_extension": ".jl",
   "mimetype": "application/julia",
   "name": "julia",
   "version": "1.6.1"
  }
 },
 "nbformat": 4,
 "nbformat_minor": 5
}
